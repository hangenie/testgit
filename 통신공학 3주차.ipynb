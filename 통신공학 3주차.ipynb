{
 "cells": [
  {
   "cell_type": "code",
   "execution_count": null,
   "metadata": {},
   "outputs": [],
   "source": [
    "# Ch 11\n",
    "infile = open(\"phones.csv\", \"r\")\n",
    "lines = infile.read()\n",
    "print(lines)\n",
    "infile.close()"
   ]
  },
  {
   "cell_type": "code",
   "execution_count": null,
   "metadata": {},
   "outputs": [],
   "source": [
    "infile = open(\"Music\\phones.csv\", \"r\")\n",
    "lines = infile.read()\n",
    "print(lines)\n",
    "infile.close()"
   ]
  },
  {
   "cell_type": "code",
   "execution_count": null,
   "metadata": {},
   "outputs": [],
   "source": [
    "infile = open(\"phones.csv\", \"r\")\n",
    "lines = infile.readlines()\n",
    "print(lines)\n",
    "infile.close()"
   ]
  },
  {
   "cell_type": "code",
   "execution_count": null,
   "metadata": {},
   "outputs": [],
   "source": [
    "infile = open(\"phones.csv\", \"r\")\n",
    "line = infile.readline().rstrip()\n",
    "while line != \"\" :\n",
    "    print(line)\n",
    "    line = infile.readline().rstrip()\n",
    "infile.close()"
   ]
  },
  {
   "cell_type": "code",
   "execution_count": null,
   "metadata": {},
   "outputs": [],
   "source": [
    "infile = open(\"phones.csv\", \"r\")\n",
    "for line in infile :\n",
    "    line=line.rstrip()\n",
    "    print(line)\n",
    "infile.close()"
   ]
  },
  {
   "cell_type": "code",
   "execution_count": null,
   "metadata": {},
   "outputs": [],
   "source": [
    "outfile = open(\"phones.txt\", \"w\")\n",
    "outfile.write(\"Emma 123-1234\")\n",
    "outfile.write(\"Bob 337-7492\")\n",
    "outfile.close()"
   ]
  },
  {
   "cell_type": "code",
   "execution_count": null,
   "metadata": {},
   "outputs": [],
   "source": [
    "outfile = open(\"phones.txt\", \"a\")\n",
    "outfile.write(\"Mia 512-5123\")\n",
    "outfile.close()"
   ]
  },
  {
   "cell_type": "code",
   "execution_count": null,
   "metadata": {},
   "outputs": [],
   "source": [
    "infile = open(\"phones.txt\", \"r\")\n",
    "lines = infile.read()\n",
    "print(lines)\n",
    "infile.close()"
   ]
  },
  {
   "cell_type": "code",
   "execution_count": null,
   "metadata": {},
   "outputs": [],
   "source": [
    "outfile = open(\"phones.txt\", \"w\")\n",
    "outfile.write(\"Emma 123-1234\\n\")\n",
    "outfile.write(\"Bob 337-7492\\n\")\n",
    "outfile.close()"
   ]
  },
  {
   "cell_type": "code",
   "execution_count": null,
   "metadata": {},
   "outputs": [],
   "source": [
    "infile = open(\"phones.txt\", \"r\")\n",
    "lines = infile.read()\n",
    "print(lines)\n",
    "infile.close()"
   ]
  },
  {
   "cell_type": "code",
   "execution_count": null,
   "metadata": {},
   "outputs": [],
   "source": [
    "outfile = open(\"phones.txt\", \"a\")\n",
    "outfile.write(\"Mia 512-5123\\n\")\n",
    "outfile.close()"
   ]
  },
  {
   "cell_type": "code",
   "execution_count": null,
   "metadata": {},
   "outputs": [],
   "source": [
    "infile = open(\"phones.txt\", \"r\")\n",
    "lines = infile.read()\n",
    "print(lines)\n",
    "infile.close()"
   ]
  },
  {
   "cell_type": "code",
   "execution_count": null,
   "metadata": {},
   "outputs": [],
   "source": [
    "infile = open(\"phones.txt\", \"r\")\n",
    "for line in infile:\n",
    "    line = line.rstrip()\n",
    "    word_list = line.split()\n",
    "    for word in word_list:\n",
    "        print(word)\n",
    "infile.close()"
   ]
  },
  {
   "cell_type": "code",
   "execution_count": null,
   "metadata": {},
   "outputs": [],
   "source": [
    "infilename = input(\"Enter your input file name: \");\n",
    "outfilename = input(\"Enter your output file name: \");\n",
    "\n",
    "infile = open(infilename, \"r\")\n",
    "outfile = open(outfilename, \"w\")\n",
    "\n",
    "s = infile.read()\n",
    "outfile.write(s)\n",
    "\n",
    "infile.close()\n",
    "outfile.close()"
   ]
  },
  {
   "cell_type": "code",
   "execution_count": null,
   "metadata": {},
   "outputs": [],
   "source": [
    "import pickle\n",
    "\n",
    "gameOption = {\n",
    "    \"Sound\": 8,\n",
    "    \"VideoQuality\": \"HIGH\",\n",
    "    \"Money\": 100000,\n",
    "    \"WeaponList\": [\"gun\", \"missile\", \"knife\"]\n",
    "}\n",
    "\n",
    "file = open(\"save.p\", \"wb\")\n",
    "\n",
    "pickle.dump( gameOption, file)\n",
    "\n",
    "file.close()"
   ]
  },
  {
   "cell_type": "code",
   "execution_count": null,
   "metadata": {},
   "outputs": [],
   "source": [
    "import pickle\n",
    "\n",
    "file = open(\"save.p\", \"rb\")\n",
    "\n",
    "obj = pickle.load(open(\"save.p\", \"rb\"))\n",
    "print(obj)"
   ]
  },
  {
   "cell_type": "code",
   "execution_count": null,
   "metadata": {},
   "outputs": [],
   "source": [
    "# Ch 13\n",
    "var1 = \"123456\"\n",
    "var2 = \"234567\"\n",
    "list1 = [var1, var2]\n",
    "while True:\n",
    "    raninput = input(\"Words \")\n",
    "    if raninput not in list1:\n",
    "        print(\"Hi\")\n",
    "    else:\n",
    "        break"
   ]
  },
  {
   "cell_type": "code",
   "execution_count": null,
   "metadata": {},
   "outputs": [],
   "source": [
    "list1"
   ]
  },
  {
   "cell_type": "code",
   "execution_count": null,
   "metadata": {},
   "outputs": [],
   "source": [
    "def func1():\n",
    "    print(\"I am learning Python function\")\n",
    "    print(\"still in func1\")\n",
    "func1()"
   ]
  },
  {
   "cell_type": "code",
   "execution_count": null,
   "metadata": {},
   "outputs": [],
   "source": [
    "def square(x):\n",
    "    return x*x\n",
    "a = 4\n",
    "print(\"%s times %s is %s.\" % (a, a, square(a)))\n",
    "print(\"\")\n",
    "\n",
    "def multiply(x, y=0):\n",
    "    print(\"value of x=\", x)\n",
    "    print(\"value of y=\", y)\n",
    "    return x*y\n",
    "x, y = 2, 4\n",
    "print(\"%s times %s is %s.\" % (x, y, multiply(y, x)))"
   ]
  },
  {
   "cell_type": "code",
   "execution_count": null,
   "metadata": {},
   "outputs": [],
   "source": [
    "from turtle import *\n",
    "alex = Turtle()\n",
    "alex.width(5)\n",
    "alex.color(\"goldenrod\")\n",
    "alex.forward(100)\n",
    "alex.left(90)\n",
    "alex.forward(100)\n",
    "alex.left(90)\n",
    "alex.forward(100)\n",
    "alex.left(90)\n",
    "alex.forward(100)\n",
    "alex.left(90)\n",
    "alex.forward(100)"
   ]
  },
  {
   "cell_type": "code",
   "execution_count": null,
   "metadata": {},
   "outputs": [],
   "source": [
    "class Car:\n",
    "    def drive(self):\n",
    "        self.speed = 10\n",
    "\n",
    "myCar = Car()\n",
    "myCar.color = \"red\"\n",
    "myCar.model = \"Mustang\"\n",
    "\n",
    "myCar.drive()\n",
    "print(myCar.speed)"
   ]
  },
  {
   "cell_type": "code",
   "execution_count": null,
   "metadata": {},
   "outputs": [],
   "source": [
    "class Car:\n",
    "    def drive(self):\n",
    "        self.speed = 60\n",
    "        \n",
    "myCar = Car()\n",
    "myCar.speed = 0\n",
    "myCar.model = \"Mustang\"\n",
    "myCar.color = \"red\"\n",
    "myCar.year = \"2020\"\n",
    "\n",
    "print(\"자동차 객체를 생성하였습니다.\")\n",
    "print(\"자동차의 속도는\", myCar.speed)\n",
    "print(\"자동차의 색상은\", myCar.color)\n",
    "print(\"자동차의 모델은\", myCar.model)\n",
    "\n",
    "print(\"자동차를 주행합니다.\")\n",
    "myCar.drive()\n",
    "print(\"자동차의 속도는\", myCar.speed)"
   ]
  },
  {
   "cell_type": "code",
   "execution_count": null,
   "metadata": {},
   "outputs": [],
   "source": [
    "class Car:\n",
    "    def __init__(self, speed, color, model):\n",
    "        self.speed = speed\n",
    "        self.color = color\n",
    "        self.model = model\n",
    "        \n",
    "    def drive(self):\n",
    "        self.speed = 60\n",
    "        \n",
    "momCar = Car(0, \"silver\", \"Cayman\")\n",
    "dadCar = Car(0, \"white\", \"Corvette\")\n",
    "myCar = Car(0, \"red\", \"Mustang\")"
   ]
  },
  {
   "cell_type": "code",
   "execution_count": null,
   "metadata": {},
   "outputs": [],
   "source": [
    "class Car:\n",
    "    def __init__(self, speed, color, model):\n",
    "        self.speed = speed\n",
    "        self.color = color\n",
    "        self.model = model\n",
    "    def __str__(self):\n",
    "        msg = \"속도:\" + str(self.speed) + \" 색상:\" + self.color + \" 모델:\" + self.model\n",
    "        return msg\n",
    "    \n",
    "myCar = Car(0, \"red\", \"Mustang\")\n",
    "print(myCar)"
   ]
  },
  {
   "cell_type": "code",
   "execution_count": null,
   "metadata": {},
   "outputs": [],
   "source": [
    "class Car():\n",
    "    def __init__(self, model, color):\n",
    "        self.model = model\n",
    "        self.color = color\n",
    "    \n",
    "    def show(self):\n",
    "        print(\"Model is\", self.model)\n",
    "        print(\"Color is\", self.color)\n",
    "\n",
    "genesis = Car(\"genesis g80\", \"metallic\")\n",
    "ferrari = Car(\"ferrari 488\", \"green\")\n",
    "\n",
    "genesis.show()\n",
    "ferrari.show()"
   ]
  },
  {
   "cell_type": "code",
   "execution_count": null,
   "metadata": {},
   "outputs": [],
   "source": [
    "class Person:\n",
    "    def __init__(self, fname, lname):\n",
    "        self.firstname = fname\n",
    "        self.lastname = lname\n",
    "    \n",
    "    def printname(self):\n",
    "        print(self.firstname, self.lastname)\n",
    "\n",
    "x = Person(\"John\", \"Doe\")\n",
    "x.printname()"
   ]
  },
  {
   "cell_type": "code",
   "execution_count": null,
   "metadata": {},
   "outputs": [],
   "source": [
    "class Student(Person):\n",
    "    pass"
   ]
  },
  {
   "cell_type": "code",
   "execution_count": null,
   "metadata": {},
   "outputs": [],
   "source": [
    "x = Student(\"Mike\", \"Olsen\")\n",
    "x.printname()"
   ]
  },
  {
   "cell_type": "code",
   "execution_count": null,
   "metadata": {},
   "outputs": [],
   "source": [
    "class Student(Person):\n",
    "    def __init__(self, fname, lname):\n",
    "        self.firstname = lname\n",
    "        self.lastname = fname"
   ]
  },
  {
   "cell_type": "code",
   "execution_count": null,
   "metadata": {},
   "outputs": [],
   "source": [
    "x = Student(\"Mike\", \"Olsen\")\n",
    "x.printname()"
   ]
  },
  {
   "cell_type": "code",
   "execution_count": null,
   "metadata": {},
   "outputs": [],
   "source": [
    "class Student(Person):\n",
    "    def __init__(self, fname, lname):\n",
    "        super().__init__(fname, lname)"
   ]
  },
  {
   "cell_type": "code",
   "execution_count": null,
   "metadata": {},
   "outputs": [],
   "source": [
    "x = Student(\"Mike\", \"Olsen\")\n",
    "x.printname()"
   ]
  },
  {
   "cell_type": "code",
   "execution_count": null,
   "metadata": {},
   "outputs": [],
   "source": [
    "class Student(Person):\n",
    "    def __init__(self, fname, lname):\n",
    "        super().__init__(fname, lname)\n",
    "        self.graduationyear = 2019\n"
   ]
  },
  {
   "cell_type": "code",
   "execution_count": null,
   "metadata": {},
   "outputs": [],
   "source": [
    "class Student(Person):\n",
    "    def __init__(self, fname, lname, year):\n",
    "        super().__init__(fname, lname)\n",
    "        self.graduationyear = year\n",
    "        \n",
    "x = Student(\"Mike\", \"Olsen\", 2020)"
   ]
  },
  {
   "cell_type": "code",
   "execution_count": null,
   "metadata": {},
   "outputs": [],
   "source": [
    "class Student(Person):\n",
    "    def __init__(self, fname, lname, year):\n",
    "        super().__init__(fname, lname)\n",
    "        self.graduationyear = year\n",
    "    \n",
    "    def welcome(self):\n",
    "        print(\"Welcome\", self.firstname, self.lastname, \"to the class of\", self.graduationyear)\n",
    "        \n",
    "x = Student(\"Mike\", \"Olsen\", 2020)\n",
    "x.welcome()"
   ]
  },
  {
   "cell_type": "code",
   "execution_count": null,
   "metadata": {},
   "outputs": [],
   "source": [
    "# Ch 11, Question 3\n",
    "filename = input(\"입력 파일 이름: \")\n",
    "infile = open(filename, \"r\")\n",
    "dict = {}\n",
    "\n",
    "for line in infile:\n",
    "    line = line.rstrip()\n",
    "    for ch in line:\n",
    "        if ch in dict.keys():\n",
    "            dict[ch] += 1\n",
    "        else:\n",
    "            dict[ch] = 1\n",
    "        \n",
    "        \n",
    "print(dict)\n",
    "infile.close()"
   ]
  },
  {
   "cell_type": "code",
   "execution_count": 13,
   "metadata": {
    "scrolled": false
   },
   "outputs": [
    {
     "name": "stdout",
     "output_type": "stream",
     "text": [
      "입력 파일 이름: numbers.txt\n",
      "출력 파일 이름: output.txt\n"
     ]
    }
   ],
   "source": [
    "# Ch 11, Question 5\n",
    "infilename = input(\"입력 파일 이름: \")\n",
    "infile = open(infilename, \"r\")\n",
    "lines = infile.readlines()\n",
    "total, count = 0, 0\n",
    "\n",
    "for line in lines:   \n",
    "    total += float(line)\n",
    "    count += 1\n",
    "\n",
    "avg = total / count\n",
    "\n",
    "outfilename = input(\"출력 파일 이름: \")\n",
    "outfile = open(outfilename, \"w\")\n",
    "outfile.write(\"합계 = \" + str(total) + \"\\n\")\n",
    "outfile.write(\"평균 = \" + str(avg))\n",
    "\n",
    "infile.close()\n",
    "outfile.close()"
   ]
  },
  {
   "cell_type": "code",
   "execution_count": 8,
   "metadata": {},
   "outputs": [
    {
     "name": "stdout",
     "output_type": "stream",
     "text": [
      "반지름: 100\n",
      "원의 면적: 31400.0\n",
      "원의 둘레: 628.0\n"
     ]
    }
   ],
   "source": [
    "# Ch 13, Question 1\n",
    "class Circle():\n",
    "    def __init__(self, radius):\n",
    "        self.radius = radius\n",
    "        \n",
    "    def calcPerimeter(self):\n",
    "        self.perimeter = 3.14 * self.radius * 2\n",
    "        return self.perimeter\n",
    "    \n",
    "    def calcArea(self):\n",
    "        self.area = 3.14 * self.radius ** 2\n",
    "        return self.area\n",
    "    \n",
    "myCircle = Circle(100)\n",
    "\n",
    "print(\"반지름:\", myCircle.radius)\n",
    "print(\"원의 면적:\", myCircle.calcArea())\n",
    "print(\"원의 둘레:\", myCircle.calcPerimeter())"
   ]
  },
  {
   "cell_type": "code",
   "execution_count": null,
   "metadata": {},
   "outputs": [],
   "source": [
    "# Ch 13, Question 4\n",
    "from turtle import *\n",
    "\n",
    "class MyTurtle(Turtle):\n",
    "    def drawSquare(self):\n",
    "        for i in range(4):\n",
    "            self.right(90)\n",
    "            self.forward(100)\n",
    "            \n",
    "my_turtle = MyTurtle()\n",
    "my_turtle.drawSquare()"
   ]
  },
  {
   "cell_type": "code",
   "execution_count": null,
   "metadata": {},
   "outputs": [],
   "source": []
  }
 ],
 "metadata": {
  "kernelspec": {
   "display_name": "Python 3",
   "language": "python",
   "name": "python3"
  },
  "language_info": {
   "codemirror_mode": {
    "name": "ipython",
    "version": 3
   },
   "file_extension": ".py",
   "mimetype": "text/x-python",
   "name": "python",
   "nbconvert_exporter": "python",
   "pygments_lexer": "ipython3",
   "version": "3.7.6"
  }
 },
 "nbformat": 4,
 "nbformat_minor": 4
}
